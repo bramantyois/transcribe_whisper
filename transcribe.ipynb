{
 "cells": [
  {
   "cell_type": "code",
   "execution_count": 1,
   "metadata": {},
   "outputs": [
    {
     "name": "stderr",
     "output_type": "stream",
     "text": [
      "/home/mpib/supriyatno/.conda/envs/whisper/lib/python3.10/site-packages/tqdm/auto.py:21: TqdmWarning: IProgress not found. Please update jupyter and ipywidgets. See https://ipywidgets.readthedocs.io/en/stable/user_install.html\n",
      "  from .autonotebook import tqdm as notebook_tqdm\n"
     ]
    }
   ],
   "source": [
    "import os\n",
    "\n",
    "import torch\n",
    "from transformers import AutoModelForSpeechSeq2Seq, AutoProcessor, pipeline\n",
    "from datasets import load_dataset\n",
    "\n",
    "import time"
   ]
  },
  {
   "cell_type": "code",
   "execution_count": 2,
   "metadata": {},
   "outputs": [
    {
     "name": "stdout",
     "output_type": "stream",
     "text": [
      "/mnt/beegfs/home/supriyatno/codes/transcribe_whisper\n"
     ]
    }
   ],
   "source": [
    "# cwd \n",
    "print(os.getcwd())"
   ]
  },
  {
   "cell_type": "code",
   "execution_count": 3,
   "metadata": {},
   "outputs": [],
   "source": [
    "audio_dir = \"data/small\"\n",
    "\n",
    "# list mp4 files\n",
    "mp4_files = [f for f in os.listdir(audio_dir) if f.endswith('.mp4')]"
   ]
  },
  {
   "cell_type": "code",
   "execution_count": 4,
   "metadata": {},
   "outputs": [
    {
     "name": "stderr",
     "output_type": "stream",
     "text": [
      "Special tokens have been added in the vocabulary, make sure the associated word embeddings are fine-tuned or trained.\n"
     ]
    }
   ],
   "source": [
    "device = \"cuda:0\" if torch.cuda.is_available() else \"cpu\"\n",
    "torch_dtype = torch.float16 if torch.cuda.is_available() else torch.float32\n",
    "\n",
    "model_id = \"openai/whisper-large-v3\"\n",
    "\n",
    "model = AutoModelForSpeechSeq2Seq.from_pretrained(\n",
    "    model_id, torch_dtype=torch_dtype, low_cpu_mem_usage=True, use_safetensors=True\n",
    ")\n",
    "model.to(device)\n",
    "\n",
    "processor = AutoProcessor.from_pretrained(model_id)"
   ]
  },
  {
   "cell_type": "code",
   "execution_count": 5,
   "metadata": {},
   "outputs": [
    {
     "name": "stdout",
     "output_type": "stream",
     "text": [
      "Mon Jun 24 12:59:02 2024       \n",
      "+-----------------------------------------------------------------------------+\n",
      "| NVIDIA-SMI 525.147.05   Driver Version: 525.147.05   CUDA Version: 12.0     |\n",
      "|-------------------------------+----------------------+----------------------+\n",
      "| GPU  Name        Persistence-M| Bus-Id        Disp.A | Volatile Uncorr. ECC |\n",
      "| Fan  Temp  Perf  Pwr:Usage/Cap|         Memory-Usage | GPU-Util  Compute M. |\n",
      "|                               |                      |               MIG M. |\n",
      "|===============================+======================+======================|\n",
      "|   0  Quadro RTX 5000     Off  | 00000000:3B:00.0 Off |                  Off |\n",
      "| 33%   32C    P2    49W / 230W |   3791MiB / 16384MiB |      0%      Default |\n",
      "|                               |                      |                  N/A |\n",
      "+-------------------------------+----------------------+----------------------+\n",
      "                                                                               \n",
      "+-----------------------------------------------------------------------------+\n",
      "| Processes:                                                                  |\n",
      "|  GPU   GI   CI        PID   Type   Process name                  GPU Memory |\n",
      "|        ID   ID                                                   Usage      |\n",
      "|=============================================================================|\n",
      "|    0   N/A  N/A   1460849      C   ...a/envs/whisper/bin/python     3788MiB |\n",
      "+-----------------------------------------------------------------------------+\n"
     ]
    }
   ],
   "source": [
    "!nvidia-smi"
   ]
  },
  {
   "cell_type": "code",
   "execution_count": 6,
   "metadata": {},
   "outputs": [],
   "source": [
    "\n",
    "pipe = pipeline(\n",
    "    \"automatic-speech-recognition\",\n",
    "    model=model,\n",
    "    tokenizer=processor.tokenizer,\n",
    "    feature_extractor=processor.feature_extractor,\n",
    "    max_new_tokens=128,\n",
    "    chunk_length_s=25,\n",
    "    batch_size=32,\n",
    "    torch_dtype=torch_dtype,\n",
    "    device=device,\n",
    ")"
   ]
  },
  {
   "cell_type": "code",
   "execution_count": 11,
   "metadata": {},
   "outputs": [
    {
     "name": "stdout",
     "output_type": "stream",
     "text": [
      "Time taken: 29.00 seconds\n"
     ]
    }
   ],
   "source": [
    "start_time = time.time()\n",
    "\n",
    "with torch.no_grad():\n",
    "    transcription = pipe(os.path.join(audio_dir, mp4_files[0]))\n",
    "\n",
    "print(f\"Time taken: {time.time() - start_time:.2f} seconds\")    "
   ]
  },
  {
   "cell_type": "code",
   "execution_count": 8,
   "metadata": {},
   "outputs": [
    {
     "data": {
      "text/plain": [
       "'v=_bhrRP5SElA.mp4'"
      ]
     },
     "execution_count": 8,
     "metadata": {},
     "output_type": "execute_result"
    }
   ],
   "source": [
    "mp4_files[0]"
   ]
  },
  {
   "cell_type": "code",
   "execution_count": 9,
   "metadata": {},
   "outputs": [],
   "source": [
    "csv_file = \"world/snapshot.20240606153519/video_list_eng_title.csv\""
   ]
  },
  {
   "cell_type": "code",
   "execution_count": 10,
   "metadata": {},
   "outputs": [],
   "source": [
    "import pandas as pd\n",
    "\n",
    "file_df = pd.read_csv(csv_file)"
   ]
  },
  {
   "cell_type": "code",
   "execution_count": 13,
   "metadata": {},
   "outputs": [
    {
     "data": {
      "text/html": [
       "<div>\n",
       "<style scoped>\n",
       "    .dataframe tbody tr th:only-of-type {\n",
       "        vertical-align: middle;\n",
       "    }\n",
       "\n",
       "    .dataframe tbody tr th {\n",
       "        vertical-align: top;\n",
       "    }\n",
       "\n",
       "    .dataframe thead th {\n",
       "        text-align: right;\n",
       "    }\n",
       "</style>\n",
       "<table border=\"1\" class=\"dataframe\">\n",
       "  <thead>\n",
       "    <tr style=\"text-align: right;\">\n",
       "      <th></th>\n",
       "      <th>Unnamed: 0</th>\n",
       "      <th>institution_id</th>\n",
       "      <th>institution_name</th>\n",
       "      <th>institution_alias</th>\n",
       "      <th>institution_established</th>\n",
       "      <th>institution_country</th>\n",
       "      <th>institution_city</th>\n",
       "      <th>channel_id</th>\n",
       "      <th>channel_title</th>\n",
       "      <th>channel_description</th>\n",
       "      <th>channel_url</th>\n",
       "      <th>video_id</th>\n",
       "      <th>video_title</th>\n",
       "      <th>video_description</th>\n",
       "      <th>video_published_at</th>\n",
       "      <th>video_duration</th>\n",
       "      <th>video_view_count</th>\n",
       "      <th>video_url</th>\n",
       "      <th>video_duration_seconds</th>\n",
       "      <th>is_english</th>\n",
       "    </tr>\n",
       "  </thead>\n",
       "  <tbody>\n",
       "    <tr>\n",
       "      <th>0</th>\n",
       "      <td>0</td>\n",
       "      <td>https://ror.org/01kpzv902</td>\n",
       "      <td>Flinders University</td>\n",
       "      <td>Flinders University of South Australia</td>\n",
       "      <td>1966.0</td>\n",
       "      <td>Australia</td>\n",
       "      <td>Adelaide</td>\n",
       "      <td>UCykVMY_tZbXuZfCQTEYyvPg</td>\n",
       "      <td>Flinders University</td>\n",
       "      <td>Flinders is a leading international university...</td>\n",
       "      <td>https://youtube.com/channel/UCykVMY_tZbXuZfCQT...</td>\n",
       "      <td>KxQvUMYep4Y</td>\n",
       "      <td>Diploma in Sport Business with Adelaide United...</td>\n",
       "      <td>The Diploma in Sport Business is a one-year co...</td>\n",
       "      <td>5 months ago</td>\n",
       "      <td>23:08</td>\n",
       "      <td>73 views</td>\n",
       "      <td>https://www.youtube.com/watch?v=KxQvUMYep4Y</td>\n",
       "      <td>1388.0</td>\n",
       "      <td>True</td>\n",
       "    </tr>\n",
       "    <tr>\n",
       "      <th>1</th>\n",
       "      <td>1</td>\n",
       "      <td>https://ror.org/01kpzv902</td>\n",
       "      <td>Flinders University</td>\n",
       "      <td>Flinders University of South Australia</td>\n",
       "      <td>1966.0</td>\n",
       "      <td>Australia</td>\n",
       "      <td>Adelaide</td>\n",
       "      <td>UCykVMY_tZbXuZfCQTEYyvPg</td>\n",
       "      <td>Flinders University</td>\n",
       "      <td>Flinders is a leading international university...</td>\n",
       "      <td>https://youtube.com/channel/UCykVMY_tZbXuZfCQT...</td>\n",
       "      <td>4tNjwmxpuLM</td>\n",
       "      <td>2023 Chalmers Oration</td>\n",
       "      <td>The College of Medicine and Public Health host...</td>\n",
       "      <td>8 months ago</td>\n",
       "      <td>1:33:26</td>\n",
       "      <td>216 views</td>\n",
       "      <td>https://www.youtube.com/watch?v=4tNjwmxpuLM</td>\n",
       "      <td>5606.0</td>\n",
       "      <td>True</td>\n",
       "    </tr>\n",
       "    <tr>\n",
       "      <th>2</th>\n",
       "      <td>2</td>\n",
       "      <td>https://ror.org/01kpzv902</td>\n",
       "      <td>Flinders University</td>\n",
       "      <td>Flinders University of South Australia</td>\n",
       "      <td>1966.0</td>\n",
       "      <td>Australia</td>\n",
       "      <td>Adelaide</td>\n",
       "      <td>UCykVMY_tZbXuZfCQTEYyvPg</td>\n",
       "      <td>Flinders University</td>\n",
       "      <td>Flinders is a leading international university...</td>\n",
       "      <td>https://youtube.com/channel/UCykVMY_tZbXuZfCQT...</td>\n",
       "      <td>W-VhxLXIP2U</td>\n",
       "      <td>Fearless Conversations: Voice to Parliament</td>\n",
       "      <td>The Voice to Parliament Lecture focuses on the...</td>\n",
       "      <td>9 months ago</td>\n",
       "      <td>1:18:17</td>\n",
       "      <td>510 views</td>\n",
       "      <td>https://www.youtube.com/watch?v=W-VhxLXIP2U</td>\n",
       "      <td>4697.0</td>\n",
       "      <td>True</td>\n",
       "    </tr>\n",
       "    <tr>\n",
       "      <th>3</th>\n",
       "      <td>3</td>\n",
       "      <td>https://ror.org/01kpzv902</td>\n",
       "      <td>Flinders University</td>\n",
       "      <td>Flinders University of South Australia</td>\n",
       "      <td>1966.0</td>\n",
       "      <td>Australia</td>\n",
       "      <td>Adelaide</td>\n",
       "      <td>UCykVMY_tZbXuZfCQTEYyvPg</td>\n",
       "      <td>Flinders University</td>\n",
       "      <td>Flinders is a leading international university...</td>\n",
       "      <td>https://youtube.com/channel/UCykVMY_tZbXuZfCQT...</td>\n",
       "      <td>qGtXc8LHgVQ</td>\n",
       "      <td>Diploma in Sports Management - Port Adelaide A...</td>\n",
       "      <td>Hear about what it is like to study a Diploma ...</td>\n",
       "      <td>1 year ago</td>\n",
       "      <td>42:36</td>\n",
       "      <td>375 views</td>\n",
       "      <td>https://www.youtube.com/watch?v=qGtXc8LHgVQ</td>\n",
       "      <td>2556.0</td>\n",
       "      <td>True</td>\n",
       "    </tr>\n",
       "    <tr>\n",
       "      <th>4</th>\n",
       "      <td>4</td>\n",
       "      <td>https://ror.org/01kpzv902</td>\n",
       "      <td>Flinders University</td>\n",
       "      <td>Flinders University of South Australia</td>\n",
       "      <td>1966.0</td>\n",
       "      <td>Australia</td>\n",
       "      <td>Adelaide</td>\n",
       "      <td>UCykVMY_tZbXuZfCQTEYyvPg</td>\n",
       "      <td>Flinders University</td>\n",
       "      <td>Flinders is a leading international university...</td>\n",
       "      <td>https://youtube.com/channel/UCykVMY_tZbXuZfCQT...</td>\n",
       "      <td>3xqILHLwZxs</td>\n",
       "      <td>Fearless Conversations | Authenticity &amp; Identi...</td>\n",
       "      <td>Watch our very special final Fearless Conversa...</td>\n",
       "      <td>1 year ago</td>\n",
       "      <td>51:08</td>\n",
       "      <td>114 views</td>\n",
       "      <td>https://www.youtube.com/watch?v=3xqILHLwZxs</td>\n",
       "      <td>3068.0</td>\n",
       "      <td>True</td>\n",
       "    </tr>\n",
       "  </tbody>\n",
       "</table>\n",
       "</div>"
      ],
      "text/plain": [
       "   Unnamed: 0             institution_id     institution_name  \\\n",
       "0           0  https://ror.org/01kpzv902  Flinders University   \n",
       "1           1  https://ror.org/01kpzv902  Flinders University   \n",
       "2           2  https://ror.org/01kpzv902  Flinders University   \n",
       "3           3  https://ror.org/01kpzv902  Flinders University   \n",
       "4           4  https://ror.org/01kpzv902  Flinders University   \n",
       "\n",
       "                        institution_alias  institution_established  \\\n",
       "0  Flinders University of South Australia                   1966.0   \n",
       "1  Flinders University of South Australia                   1966.0   \n",
       "2  Flinders University of South Australia                   1966.0   \n",
       "3  Flinders University of South Australia                   1966.0   \n",
       "4  Flinders University of South Australia                   1966.0   \n",
       "\n",
       "  institution_country institution_city                channel_id  \\\n",
       "0           Australia         Adelaide  UCykVMY_tZbXuZfCQTEYyvPg   \n",
       "1           Australia         Adelaide  UCykVMY_tZbXuZfCQTEYyvPg   \n",
       "2           Australia         Adelaide  UCykVMY_tZbXuZfCQTEYyvPg   \n",
       "3           Australia         Adelaide  UCykVMY_tZbXuZfCQTEYyvPg   \n",
       "4           Australia         Adelaide  UCykVMY_tZbXuZfCQTEYyvPg   \n",
       "\n",
       "         channel_title                                channel_description  \\\n",
       "0  Flinders University  Flinders is a leading international university...   \n",
       "1  Flinders University  Flinders is a leading international university...   \n",
       "2  Flinders University  Flinders is a leading international university...   \n",
       "3  Flinders University  Flinders is a leading international university...   \n",
       "4  Flinders University  Flinders is a leading international university...   \n",
       "\n",
       "                                         channel_url     video_id  \\\n",
       "0  https://youtube.com/channel/UCykVMY_tZbXuZfCQT...  KxQvUMYep4Y   \n",
       "1  https://youtube.com/channel/UCykVMY_tZbXuZfCQT...  4tNjwmxpuLM   \n",
       "2  https://youtube.com/channel/UCykVMY_tZbXuZfCQT...  W-VhxLXIP2U   \n",
       "3  https://youtube.com/channel/UCykVMY_tZbXuZfCQT...  qGtXc8LHgVQ   \n",
       "4  https://youtube.com/channel/UCykVMY_tZbXuZfCQT...  3xqILHLwZxs   \n",
       "\n",
       "                                         video_title  \\\n",
       "0  Diploma in Sport Business with Adelaide United...   \n",
       "1                              2023 Chalmers Oration   \n",
       "2        Fearless Conversations: Voice to Parliament   \n",
       "3  Diploma in Sports Management - Port Adelaide A...   \n",
       "4  Fearless Conversations | Authenticity & Identi...   \n",
       "\n",
       "                                   video_description video_published_at  \\\n",
       "0  The Diploma in Sport Business is a one-year co...       5 months ago   \n",
       "1  The College of Medicine and Public Health host...       8 months ago   \n",
       "2  The Voice to Parliament Lecture focuses on the...       9 months ago   \n",
       "3  Hear about what it is like to study a Diploma ...         1 year ago   \n",
       "4  Watch our very special final Fearless Conversa...         1 year ago   \n",
       "\n",
       "  video_duration video_view_count  \\\n",
       "0          23:08         73 views   \n",
       "1        1:33:26        216 views   \n",
       "2        1:18:17        510 views   \n",
       "3          42:36        375 views   \n",
       "4          51:08        114 views   \n",
       "\n",
       "                                     video_url  video_duration_seconds  \\\n",
       "0  https://www.youtube.com/watch?v=KxQvUMYep4Y                  1388.0   \n",
       "1  https://www.youtube.com/watch?v=4tNjwmxpuLM                  5606.0   \n",
       "2  https://www.youtube.com/watch?v=W-VhxLXIP2U                  4697.0   \n",
       "3  https://www.youtube.com/watch?v=qGtXc8LHgVQ                  2556.0   \n",
       "4  https://www.youtube.com/watch?v=3xqILHLwZxs                  3068.0   \n",
       "\n",
       "   is_english  \n",
       "0        True  \n",
       "1        True  \n",
       "2        True  \n",
       "3        True  \n",
       "4        True  "
      ]
     },
     "execution_count": 13,
     "metadata": {},
     "output_type": "execute_result"
    }
   ],
   "source": [
    "file_df.head()"
   ]
  },
  {
   "cell_type": "code",
   "execution_count": 14,
   "metadata": {},
   "outputs": [],
   "source": [
    "# sample 100 and save\n",
    "file_df.sample(100).to_csv(\"world/snapshot.20240606153519/sample_100.csv\", index=False)"
   ]
  },
  {
   "cell_type": "code",
   "execution_count": 1,
   "metadata": {},
   "outputs": [],
   "source": [
    "from s3utils import get_list_of_files_s3"
   ]
  },
  {
   "cell_type": "code",
   "execution_count": 2,
   "metadata": {},
   "outputs": [],
   "source": [
    "files = get_list_of_files_s3(\"world/snapshot.20240606153519/audio_files\")"
   ]
  },
  {
   "cell_type": "code",
   "execution_count": 4,
   "metadata": {},
   "outputs": [
    {
     "data": {
      "text/plain": [
       "190851"
      ]
     },
     "execution_count": 4,
     "metadata": {},
     "output_type": "execute_result"
    }
   ],
   "source": [
    "len(files[0])"
   ]
  },
  {
   "cell_type": "code",
   "execution_count": 8,
   "metadata": {},
   "outputs": [
    {
     "data": {
      "text/plain": [
       "102141374"
      ]
     },
     "execution_count": 8,
     "metadata": {},
     "output_type": "execute_result"
    }
   ],
   "source": [
    "files[1][1]"
   ]
  },
  {
   "cell_type": "code",
   "execution_count": null,
   "metadata": {},
   "outputs": [],
   "source": []
  }
 ],
 "metadata": {
  "kernelspec": {
   "display_name": "Python 3 (ipykernel)",
   "language": "python",
   "name": "python3"
  },
  "language_info": {
   "codemirror_mode": {
    "name": "ipython",
    "version": 3
   },
   "file_extension": ".py",
   "mimetype": "text/x-python",
   "name": "python",
   "nbconvert_exporter": "python",
   "pygments_lexer": "ipython3",
   "version": "3.10.14"
  }
 },
 "nbformat": 4,
 "nbformat_minor": 2
}
